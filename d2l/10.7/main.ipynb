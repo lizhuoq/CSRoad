{
 "cells": [
  {
   "cell_type": "code",
   "execution_count": 1,
   "id": "6860d06b",
   "metadata": {},
   "outputs": [],
   "source": [
    "import math\n",
    "import pandas as pd\n",
    "import torch\n",
    "from torch import nn\n",
    "from d2l import torch as d2l"
   ]
  },
  {
   "cell_type": "code",
   "execution_count": 4,
   "id": "6f7f42c5",
   "metadata": {},
   "outputs": [],
   "source": [
    "class PositionWiseFFN(nn.Module):\n",
    "    def __init__(self, ffn_num_input, ffn_num_hiddens, ffn_num_outputs):\n",
    "        super(PositionWiseFFN, self).__init__()\n",
    "        self.dense1 = nn.Linear(ffn_num_input, ffn_num_hiddens)\n",
    "        self.relu = nn.ReLU()\n",
    "        self.dense2 = nn.Linear(ffn_num_hiddens, ffn_num_outputs)\n",
    "        \n",
    "    def forward(self, X):\n",
    "        return self.dense2(self.relu(self.dense1(X)))"
   ]
  },
  {
   "cell_type": "code",
   "execution_count": 6,
   "id": "4ca9eb2b",
   "metadata": {},
   "outputs": [
    {
     "data": {
      "text/plain": [
       "tensor([[-0.4626, -0.3184, -0.3560,  0.4955,  0.0609, -0.0096,  0.3596, -0.1839],\n",
       "        [-0.4626, -0.3184, -0.3560,  0.4955,  0.0609, -0.0096,  0.3596, -0.1839],\n",
       "        [-0.4626, -0.3184, -0.3560,  0.4955,  0.0609, -0.0096,  0.3596, -0.1839]],\n",
       "       grad_fn=<SelectBackward0>)"
      ]
     },
     "execution_count": 6,
     "metadata": {},
     "output_type": "execute_result"
    }
   ],
   "source": [
    "ffn = PositionWiseFFN(4, 4, 8)\n",
    "ffn.eval()\n",
    "ffn(torch.ones(2, 3, 4))[0]"
   ]
  },
  {
   "cell_type": "code",
   "execution_count": 9,
   "id": "f50b04bd",
   "metadata": {},
   "outputs": [],
   "source": [
    "class AddNrom(nn.Module):\n",
    "    def __init__(self, normalized_shape, dropout):\n",
    "        super(AddNrom, self).__init__()\n",
    "        self.dropout = nn.Dropout(dropout)\n",
    "        self.ln = nn.LayerNorm(normalized_shape)\n",
    "        \n",
    "    def forward(self, X, Y):\n",
    "        return self.ln(self.dropout(Y) + X)"
   ]
  },
  {
   "cell_type": "code",
   "execution_count": 10,
   "id": "080b7386",
   "metadata": {},
   "outputs": [
    {
     "data": {
      "text/plain": [
       "torch.Size([2, 3, 4])"
      ]
     },
     "execution_count": 10,
     "metadata": {},
     "output_type": "execute_result"
    }
   ],
   "source": [
    "add_norm = AddNrom([3, 4], 0.5)\n",
    "add_norm.eval()\n",
    "add_norm(torch.ones(2, 3, 4), torch.ones(2, 3, 4)).shape"
   ]
  },
  {
   "cell_type": "code",
   "execution_count": 11,
   "id": "17f0a6e9",
   "metadata": {},
   "outputs": [],
   "source": [
    "# TODO"
   ]
  }
 ],
 "metadata": {
  "kernelspec": {
   "display_name": "Python 3 (ipykernel)",
   "language": "python",
   "name": "python3"
  },
  "language_info": {
   "codemirror_mode": {
    "name": "ipython",
    "version": 3
   },
   "file_extension": ".py",
   "mimetype": "text/x-python",
   "name": "python",
   "nbconvert_exporter": "python",
   "pygments_lexer": "ipython3",
   "version": "3.11.3"
  }
 },
 "nbformat": 4,
 "nbformat_minor": 5
}
